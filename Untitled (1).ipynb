{
 "cells": [
  {
   "cell_type": "markdown",
   "metadata": {},
   "source": [
    "# Mécanique des fluides"
   ]
  },
  {
   "cell_type": "markdown",
   "metadata": {},
   "source": [
    "## Régimes d'écoulement\n",
    "Régime laminaire...\n",
    "\n",
    "\n",
    "\n",
    "\n",
    "Régime inertiel..."
   ]
  },
  {
   "cell_type": "markdown",
   "metadata": {},
   "source": [
    "## Quelques caractéristiques\n",
    "Comprésibilité...\n",
    "\n",
    "\n",
    "Vitesse du son dans le milieu...\n",
    "\n",
    "Nombre de Reynolds...\n",
    "\n"
   ]
  },
  {
   "cell_type": "markdown",
   "metadata": {},
   "source": [
    "## Équation de Navier- Stokes\n",
    "L'équation de Navier- Stokes provient de la seconde loi de Newton:\n",
    "\n",
    "$$ \\sum\\vec{F} = m \\vec{a} $$\n",
    "\n",
    "Que l'on divise par le volume de chaque côté pour obtenir:\n",
    "\n",
    "$$ \\sum\\vec{f} = \\rho \\vec{a} $$\n",
    "\n",
    "$f$: la densité de force en $N/m^3$\n",
    "\n",
    "On a:\n",
    "\n",
    "$$ \\vec{a} = \\frac{d\\vec{v}}{dt}$$\n",
    "\n",
    "Où $\\vec{v} = \\vec{v}(x(t), y(t), z(t))$\n",
    "\n",
    "On a donc pour l'accélération dans une direction:\n",
    "\n",
    "$$ (\\vec{a})_i = \\Big(\\frac{\\partial v_i}{\\partial t}\\Big)_i + \\vec{v} \\cdot (\\nabla v_i)$$\n",
    "\n",
    "Nous pouvons observer le cas où nous avons la somme des forces suivante:\n",
    "\n",
    "$$ \\sum\\vec{f} = \\rho\\vec{g} - \\nabla p + \\mu \\nabla^2v$$\n",
    "\n",
    "Le premier terme correspont à la force gravitationnel exercée sur la masse du fluide, le second correspond à la pression que le fluide exerce sur ?? et le dernier un terme associé à la viscosité du fluide.\n",
    "\n",
    "$$\\frac{\\partial}{\\partial t}(\\rho\\vec{u}) + \\nabla \\cdot (\\rho\\vec{u}\\vec{u}^T) = -\\nabla\\rho + \\mu\\nabla^2\\vec{u}$$\n",
    "\n",
    "$\\vec{u}$: champ de vitesse du fluide\n",
    "\n",
    "$\\rho$: masse volumique\n",
    "\n",
    "$p$: pression\n",
    "\n",
    "$\\mu$: viscosité dynamique"
   ]
  },
  {
   "cell_type": "markdown",
   "metadata": {},
   "source": [
    "## But du pojet\n",
    "1) Simuler la propagation d'une onde sonore dans le fluide\n",
    "\n",
    "2) La trainée derrière un obstable de dimenssion finie"
   ]
  },
  {
   "cell_type": "markdown",
   "metadata": {},
   "source": [
    "## Computational Methods for Fluid Dynamics"
   ]
  },
  {
   "cell_type": "markdown",
   "metadata": {},
   "source": []
  }
 ],
 "metadata": {
  "kernelspec": {
   "display_name": "Python 3",
   "language": "python",
   "name": "python3"
  },
  "language_info": {
   "codemirror_mode": {
    "name": "ipython",
    "version": 3
   },
   "file_extension": ".py",
   "mimetype": "text/x-python",
   "name": "python",
   "nbconvert_exporter": "python",
   "pygments_lexer": "ipython3",
   "version": "3.7.1"
  }
 },
 "nbformat": 4,
 "nbformat_minor": 2
}
