{
 "cells": [
  {
   "cell_type": "markdown",
   "metadata": {},
   "source": [
    "# Spin-Torque and Spin-Hall Nano-Oscillators\n",
    "\n",
    "## Introduction\n",
    "\n",
    "## Utilité de la technologie\n",
    "Source microondes: Les STNO et les SHNO pourraient à l'avenir devenir des technologies viables éméttrices de mirco-ondes. Ces deux technologies sont très versatiles et peuvent autant prendre le rôle de source que de déterteur et même être utilisées comme processeur de signal. Leurs avantages sont notables, par exemple pour le GMR-STNO la plage de fréquences \"accordable\" peut- être très large avec une démonstration récente d'un sytème allant jusqu'à 280 GHz. Ces technologies ont comme avantage: leur petitesse, le rapidité de \"commutation\" (switching) et le consommation d'énergie. Pour que ces technologie dominent le marché il faut surmonté les problèmes de pureté spectrale et de puissance en sortie. De plus la dépendance en température et la structure des modes restent à être mieux compris.\n",
    "\n",
    "## Physique derrière la technologie\n",
    "\n",
    "## Lien avec le cours de cinétique\n",
    "\n",
    "## Conclusion"
   ]
  },
  {
   "cell_type": "code",
   "execution_count": null,
   "metadata": {},
   "outputs": [],
   "source": []
  }
 ],
 "metadata": {
  "kernelspec": {
   "display_name": "Python 3",
   "language": "python",
   "name": "python3"
  },
  "language_info": {
   "codemirror_mode": {
    "name": "ipython",
    "version": 3
   },
   "file_extension": ".py",
   "mimetype": "text/x-python",
   "name": "python",
   "nbconvert_exporter": "python",
   "pygments_lexer": "ipython3",
   "version": "3.7.1"
  }
 },
 "nbformat": 4,
 "nbformat_minor": 2
}
